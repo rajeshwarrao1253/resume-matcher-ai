{
 "cells": [
  {
   "cell_type": "code",
   "execution_count": 1,
   "metadata": {},
   "outputs": [
    {
     "name": "stdout",
     "output_type": "stream",
     "text": [
      "                                     job_description  \\\n",
      "0  Looking for a software engineer skilled in Spr...   \n",
      "1  Looking for a software engineer skilled in Pos...   \n",
      "2  Looking for a software engineer skilled in Pyt...   \n",
      "3  Looking for a software engineer skilled in NLP...   \n",
      "4  Looking for a software engineer skilled in Mic...   \n",
      "\n",
      "                                      resume_summary  match_score  \\\n",
      "0  The candidate has experience in Spring Boot, A...           20   \n",
      "1  The candidate has experience in NLP, Python, R...           20   \n",
      "2  The candidate has experience in MySQL, React, ...            0   \n",
      "3  The candidate has experience in Machine Learni...           16   \n",
      "4  The candidate has experience in GCP, Django, M...           40   \n",
      "\n",
      "                                         explanation  \n",
      "0  Very low match: candidate lacks key required s...  \n",
      "1  Very low match: candidate lacks key required s...  \n",
      "2  Very low match: candidate lacks key required s...  \n",
      "3  Very low match: candidate lacks key required s...  \n",
      "4  Weak match: few overlaps between required and ...  \n"
     ]
    }
   ],
   "source": [
    "import json\n",
    "import pandas as pd\n",
    "\n",
    "# Load your dataset from the Downloads folder\n",
    "with open(\"/Users/rajeshwarraothakkallapally/Downloads/jobmatch_dataset.json\", \"r\") as f:\n",
    "    data = json.load(f)\n",
    "\n",
    "# Convert JSON to pandas DataFrame\n",
    "df = pd.DataFrame(data)\n",
    "\n",
    "# Display first few records\n",
    "print(df.head())\n"
   ]
  },
  {
   "cell_type": "code",
   "execution_count": 2,
   "metadata": {},
   "outputs": [
    {
     "name": "stdout",
     "output_type": "stream",
     "text": [
      "Total examples: 1000\n",
      "Columns: ['job_description', 'resume_summary', 'match_score', 'explanation']\n",
      "job_description    Looking for a software engineer skilled in Spr...\n",
      "resume_summary     The candidate has experience in Spring Boot, A...\n",
      "match_score                                                       20\n",
      "explanation        Very low match: candidate lacks key required s...\n",
      "Name: 0, dtype: object\n"
     ]
    }
   ],
   "source": [
    "# Check total rows\n",
    "print(\"Total examples:\", len(df))\n",
    "\n",
    "# Check available columns\n",
    "print(\"Columns:\", df.columns.tolist())\n",
    "\n",
    "# Show example record\n",
    "print(df.iloc[0])\n"
   ]
  },
  {
   "cell_type": "code",
   "execution_count": 3,
   "metadata": {},
   "outputs": [
    {
     "data": {
      "image/png": "[encoded data removed]",
      "text/plain": [
       "<Figure size 640x480 with 1 Axes>"
      ]
     },
     "metadata": {},
     "output_type": "display_data"
    }
   ],
   "source": [
    "import matplotlib.pyplot as plt\n",
    "\n",
    "df[\"match_score\"].hist(bins=10, edgecolor='black')\n",
    "plt.title(\"Distribution of Match Scores\")\n",
    "plt.xlabel(\"Score (0–100)\")\n",
    "plt.ylabel(\"Number of Examples\")\n",
    "plt.grid(True)\n",
    "plt.show()\n"
   ]
  },
  {
   "cell_type": "code",
   "execution_count": 4,
   "metadata": {},
   "outputs": [
    {
     "data": {
      "text/html": [
       "<div>\n",
       "<style scoped>\n",
       "    .dataframe tbody tr th:only-of-type {\n",
       "        vertical-align: middle;\n",
       "    }\n",
       "\n",
       "    .dataframe tbody tr th {\n",
       "        vertical-align: top;\n",
       "    }\n",
       "\n",
       "    .dataframe thead th {\n",
       "        text-align: right;\n",
       "    }\n",
       "</style>\n",
       "<table border=\"1\" class=\"dataframe\">\n",
       "  <thead>\n",
       "    <tr style=\"text-align: right;\">\n",
       "      <th></th>\n",
       "      <th>match_score</th>\n",
       "      <th>match_label</th>\n",
       "    </tr>\n",
       "  </thead>\n",
       "  <tbody>\n",
       "    <tr>\n",
       "      <th>0</th>\n",
       "      <td>20</td>\n",
       "      <td>0</td>\n",
       "    </tr>\n",
       "    <tr>\n",
       "      <th>1</th>\n",
       "      <td>20</td>\n",
       "      <td>0</td>\n",
       "    </tr>\n",
       "    <tr>\n",
       "      <th>2</th>\n",
       "      <td>0</td>\n",
       "      <td>0</td>\n",
       "    </tr>\n",
       "    <tr>\n",
       "      <th>3</th>\n",
       "      <td>16</td>\n",
       "      <td>0</td>\n",
       "    </tr>\n",
       "    <tr>\n",
       "      <th>4</th>\n",
       "      <td>40</td>\n",
       "      <td>1</td>\n",
       "    </tr>\n",
       "  </tbody>\n",
       "</table>\n",
       "</div>"
      ],
      "text/plain": [
       "   match_score  match_label\n",
       "0           20            0\n",
       "1           20            0\n",
       "2            0            0\n",
       "3           16            0\n",
       "4           40            1"
      ]
     },
     "execution_count": 4,
     "metadata": {},
     "output_type": "execute_result"
    }
   ],
   "source": [
    "def score_to_label(score):\n",
    "    if score <= 25:\n",
    "        return 0\n",
    "    elif score <= 60:\n",
    "        return 1\n",
    "    else:\n",
    "        return 2\n",
    "\n",
    "df[\"match_label\"] = df[\"match_score\"].apply(score_to_label)\n",
    "df[[\"match_score\", \"match_label\"]].head()\n"
   ]
  },
  {
   "cell_type": "code",
   "execution_count": 5,
   "metadata": {},
   "outputs": [
    {
     "data": {
      "text/html": [
       "<div>\n",
       "<style scoped>\n",
       "    .dataframe tbody tr th:only-of-type {\n",
       "        vertical-align: middle;\n",
       "    }\n",
       "\n",
       "    .dataframe tbody tr th {\n",
       "        vertical-align: top;\n",
       "    }\n",
       "\n",
       "    .dataframe thead th {\n",
       "        text-align: right;\n",
       "    }\n",
       "</style>\n",
       "<table border=\"1\" class=\"dataframe\">\n",
       "  <thead>\n",
       "    <tr style=\"text-align: right;\">\n",
       "      <th></th>\n",
       "      <th>job_description</th>\n",
       "      <th>resume_summary</th>\n",
       "      <th>label</th>\n",
       "    </tr>\n",
       "  </thead>\n",
       "  <tbody>\n",
       "    <tr>\n",
       "      <th>0</th>\n",
       "      <td>Looking for a software engineer skilled in Spr...</td>\n",
       "      <td>The candidate has experience in Spring Boot, A...</td>\n",
       "      <td>0</td>\n",
       "    </tr>\n",
       "    <tr>\n",
       "      <th>1</th>\n",
       "      <td>Looking for a software engineer skilled in Pos...</td>\n",
       "      <td>The candidate has experience in NLP, Python, R...</td>\n",
       "      <td>0</td>\n",
       "    </tr>\n",
       "    <tr>\n",
       "      <th>2</th>\n",
       "      <td>Looking for a software engineer skilled in Pyt...</td>\n",
       "      <td>The candidate has experience in MySQL, React, ...</td>\n",
       "      <td>0</td>\n",
       "    </tr>\n",
       "    <tr>\n",
       "      <th>3</th>\n",
       "      <td>Looking for a software engineer skilled in NLP...</td>\n",
       "      <td>The candidate has experience in Machine Learni...</td>\n",
       "      <td>0</td>\n",
       "    </tr>\n",
       "    <tr>\n",
       "      <th>4</th>\n",
       "      <td>Looking for a software engineer skilled in Mic...</td>\n",
       "      <td>The candidate has experience in GCP, Django, M...</td>\n",
       "      <td>1</td>\n",
       "    </tr>\n",
       "  </tbody>\n",
       "</table>\n",
       "</div>"
      ],
      "text/plain": [
       "                                     job_description  \\\n",
       "0  Looking for a software engineer skilled in Spr...   \n",
       "1  Looking for a software engineer skilled in Pos...   \n",
       "2  Looking for a software engineer skilled in Pyt...   \n",
       "3  Looking for a software engineer skilled in NLP...   \n",
       "4  Looking for a software engineer skilled in Mic...   \n",
       "\n",
       "                                      resume_summary  label  \n",
       "0  The candidate has experience in Spring Boot, A...      0  \n",
       "1  The candidate has experience in NLP, Python, R...      0  \n",
       "2  The candidate has experience in MySQL, React, ...      0  \n",
       "3  The candidate has experience in Machine Learni...      0  \n",
       "4  The candidate has experience in GCP, Django, M...      1  "
      ]
     },
     "execution_count": 5,
     "metadata": {},
     "output_type": "execute_result"
    }
   ],
   "source": [
    "import pandas as pd\n",
    "import json\n",
    "\n",
    "# Load dataset (already labeled from Phase 1)\n",
    "with open(\"/Users/rajeshwarraothakkallapally/Downloads/jobmatch_dataset.json\", \"r\") as f:\n",
    "    data = json.load(f)\n",
    "\n",
    "df = pd.DataFrame(data)\n",
    "\n",
    "# Labeling function\n",
    "def score_to_label(score):\n",
    "    if score <= 25:\n",
    "        return 0\n",
    "    elif score <= 60:\n",
    "        return 1\n",
    "    else:\n",
    "        return 2\n",
    "\n",
    "df[\"label\"] = df[\"match_score\"].apply(score_to_label)\n",
    "df = df[[\"job_description\", \"resume_summary\", \"label\"]]\n",
    "df.head()\n"
   ]
  },
  {
   "cell_type": "code",
   "execution_count": 6,
   "metadata": {},
   "outputs": [],
   "source": [
    "df[\"input_text\"] = \"Job: \" + df[\"job_description\"] + \" Resume: \" + df[\"resume_summary\"]\n",
    "df = df[[\"input_text\", \"label\"]]\n"
   ]
  },
  {
   "cell_type": "code",
   "execution_count": 7,
   "metadata": {},
   "outputs": [],
   "source": [
    "from sklearn.model_selection import train_test_split\n",
    "\n",
    "train_texts, val_texts, train_labels, val_labels = train_test_split(\n",
    "    df[\"input_text\"].tolist(),\n",
    "    df[\"label\"].tolist(),\n",
    "    test_size=0.2,\n",
    "    random_state=42\n",
    ")\n"
   ]
  },
  {
   "cell_type": "code",
   "execution_count": 8,
   "metadata": {},
   "outputs": [
    {
     "name": "stderr",
     "output_type": "stream",
     "text": [
      "/Users/rajeshwarraothakkallapally/miniconda3/envs/langchain311/lib/python3.11/site-packages/tqdm/auto.py:21: TqdmWarning: IProgress not found. Please update jupyter and ipywidgets. See https://ipywidgets.readthedocs.io/en/stable/user_install.html\n",
      "  from .autonotebook import tqdm as notebook_tqdm\n"
     ]
    }
   ],
   "source": [
    "from transformers import AutoTokenizer\n",
    "\n",
    "bert_tokenizer = AutoTokenizer.from_pretrained(\"bert-base-uncased\")\n",
    "\n",
    "train_encodings = bert_tokenizer(train_texts, truncation=True, padding=True, max_length=256)\n",
    "val_encodings = bert_tokenizer(val_texts, truncation=True, padding=True, max_length=256)\n"
   ]
  },
  {
   "cell_type": "code",
   "execution_count": 9,
   "metadata": {},
   "outputs": [],
   "source": [
    "import torch\n",
    "\n",
    "class ResumeMatchDataset(torch.utils.data.Dataset):\n",
    "    def __init__(self, encodings, labels):\n",
    "        self.encodings = encodings\n",
    "        self.labels = labels\n",
    "    \n",
    "    def __len__(self):\n",
    "        return len(self.labels)\n",
    "    \n",
    "    def __getitem__(self, idx):\n",
    "        return {\n",
    "            key: torch.tensor(val[idx]) for key, val in self.encodings.items()\n",
    "        } | {\n",
    "            \"labels\": torch.tensor(self.labels[idx])\n",
    "        }\n",
    "\n",
    "train_dataset = ResumeMatchDataset(train_encodings, train_labels)\n",
    "val_dataset = ResumeMatchDataset(val_encodings, val_labels)\n"
   ]
  },
  {
   "cell_type": "code",
   "execution_count": 10,
   "metadata": {},
   "outputs": [
    {
     "name": "stderr",
     "output_type": "stream",
     "text": [
      "Some weights of BertForSequenceClassification were not initialized from the model checkpoint at bert-base-uncased and are newly initialized: ['classifier.bias', 'classifier.weight']\n",
      "You should probably TRAIN this model on a down-stream task to be able to use it for predictions and inference.\n"
     ]
    }
   ],
   "source": [
    "from transformers import AutoModelForSequenceClassification, Trainer, TrainingArguments\n",
    "\n",
    "bert_model = AutoModelForSequenceClassification.from_pretrained(\"bert-base-uncased\", num_labels=3)\n",
    "\n",
    "training_args = TrainingArguments(\n",
    "    output_dir=\"./bert-resume-classifier\",\n",
    "    eval_strategy=\"epoch\",\n",
    "    save_strategy=\"epoch\",\n",
    "    learning_rate=2e-5,\n",
    "    per_device_train_batch_size=8,\n",
    "    per_device_eval_batch_size=8,\n",
    "    num_train_epochs=3,\n",
    "    weight_decay=0.01,\n",
    "    logging_dir=\"./logs\",\n",
    ")\n",
    "\n",
    "trainer = Trainer(\n",
    "    model=bert_model,\n",
    "    args=training_args,\n",
    "    train_dataset=train_dataset,\n",
    "    eval_dataset=val_dataset,\n",
    ")\n"
   ]
  },
  {
   "cell_type": "code",
   "execution_count": 11,
   "metadata": {},
   "outputs": [
    {
     "name": "stderr",
     "output_type": "stream",
     "text": [
      "huggingface/tokenizers: The current process just got forked, after parallelism has already been used. Disabling parallelism to avoid deadlocks...\n",
      "To disable this warning, you can either:\n",
      "\t- Avoid using `tokenizers` before the fork if possible\n",
      "\t- Explicitly set the environment variable TOKENIZERS_PARALLELISM=(true | false)\n",
      "  0%|          | 0/300 [00:00<?, ?it/s]/Users/rajeshwarraothakkallapally/miniconda3/envs/langchain311/lib/python3.11/site-packages/torch/utils/data/dataloader.py:683: UserWarning: 'pin_memory' argument is set as true but not supported on MPS now, then device pinned memory won't be used.\n",
      "  warnings.warn(warn_msg)\n",
      "                                                 \n",
      " 33%|███▎      | 100/300 [00:29<00:53,  3.73it/s]"
     ]
    },
    {
     "name": "stdout",
     "output_type": "stream",
     "text": [
      "{'eval_loss': 0.4406709372997284, 'eval_runtime': 1.3111, 'eval_samples_per_second': 152.543, 'eval_steps_per_second': 19.068, 'epoch': 1.0}\n"
     ]
    },
    {
     "name": "stderr",
     "output_type": "stream",
     "text": [
      "/Users/rajeshwarraothakkallapally/miniconda3/envs/langchain311/lib/python3.11/site-packages/torch/utils/data/dataloader.py:683: UserWarning: 'pin_memory' argument is set as true but not supported on MPS now, then device pinned memory won't be used.\n",
      "  warnings.warn(warn_msg)\n",
      "                                                 \n",
      " 67%|██████▋   | 200/300 [00:58<00:26,  3.77it/s]"
     ]
    },
    {
     "name": "stdout",
     "output_type": "stream",
     "text": [
      "{'eval_loss': 0.333760142326355, 'eval_runtime': 1.2445, 'eval_samples_per_second': 160.712, 'eval_steps_per_second': 20.089, 'epoch': 2.0}\n"
     ]
    },
    {
     "name": "stderr",
     "output_type": "stream",
     "text": [
      "/Users/rajeshwarraothakkallapally/miniconda3/envs/langchain311/lib/python3.11/site-packages/torch/utils/data/dataloader.py:683: UserWarning: 'pin_memory' argument is set as true but not supported on MPS now, then device pinned memory won't be used.\n",
      "  warnings.warn(warn_msg)\n",
      "                                                 \n",
      "100%|██████████| 300/300 [01:27<00:00,  3.76it/s]"
     ]
    },
    {
     "name": "stdout",
     "output_type": "stream",
     "text": [
      "{'eval_loss': 0.2790907919406891, 'eval_runtime': 1.283, 'eval_samples_per_second': 155.887, 'eval_steps_per_second': 19.486, 'epoch': 3.0}\n"
     ]
    },
    {
     "name": "stderr",
     "output_type": "stream",
     "text": [
      "100%|██████████| 300/300 [01:28<00:00,  3.38it/s]"
     ]
    },
    {
     "name": "stdout",
     "output_type": "stream",
     "text": [
      "{'train_runtime': 88.8874, 'train_samples_per_second': 27.0, 'train_steps_per_second': 3.375, 'train_loss': 0.3980644989013672, 'epoch': 3.0}\n"
     ]
    },
    {
     "name": "stderr",
     "output_type": "stream",
     "text": [
      "\n"
     ]
    },
    {
     "data": {
      "text/plain": [
       "TrainOutput(global_step=300, training_loss=0.3980644989013672, metrics={'train_runtime': 88.8874, 'train_samples_per_second': 27.0, 'train_steps_per_second': 3.375, 'total_flos': 81400713609600.0, 'train_loss': 0.3980644989013672, 'epoch': 3.0})"
      ]
     },
     "execution_count": 11,
     "metadata": {},
     "output_type": "execute_result"
    }
   ],
   "source": [
    "trainer.train()\n"
   ]
  },
  {
   "cell_type": "code",
   "execution_count": 12,
   "metadata": {},
   "outputs": [
    {
     "name": "stderr",
     "output_type": "stream",
     "text": [
      "/Users/rajeshwarraothakkallapally/miniconda3/envs/langchain311/lib/python3.11/site-packages/torch/utils/data/dataloader.py:683: UserWarning: 'pin_memory' argument is set as true but not supported on MPS now, then device pinned memory won't be used.\n",
      "  warnings.warn(warn_msg)\n",
      "100%|██████████| 25/25 [00:01<00:00, 20.60it/s]\n"
     ]
    },
    {
     "data": {
      "text/plain": [
       "{'eval_loss': 0.2790907919406891,\n",
       " 'eval_runtime': 1.2317,\n",
       " 'eval_samples_per_second': 162.381,\n",
       " 'eval_steps_per_second': 20.298,\n",
       " 'epoch': 3.0}"
      ]
     },
     "execution_count": 12,
     "metadata": {},
     "output_type": "execute_result"
    }
   ],
   "source": [
    "trainer.evaluate()\n"
   ]
  },
  {
   "cell_type": "code",
   "execution_count": 13,
   "metadata": {},
   "outputs": [],
   "source": [
    "def predict_match_label(job_description, resume_summary, model, tokenizer):\n",
    "    model.eval()\n",
    "    model.to(\"cpu\")  # 💥 Force model to CPU\n",
    "\n",
    "    input_text = f\"Job: {job_description} Resume: {resume_summary}\"\n",
    "    inputs = tokenizer(input_text, return_tensors=\"pt\", truncation=True, padding=True, max_length=256)\n",
    "    inputs = {k: v.to(\"cpu\") for k, v in inputs.items()}  # 💥 Also move inputs to CPU\n",
    "\n",
    "    with torch.no_grad():\n",
    "        outputs = model(**inputs)\n",
    "        predicted_class = torch.argmax(outputs.logits, dim=1).item()\n",
    "\n",
    "    label_map = {0: \"Low Match\", 1: \"Medium Match\", 2: \"High Match\"}\n",
    "    return label_map[predicted_class]\n"
   ]
  },
  {
   "cell_type": "code",
   "execution_count": 14,
   "metadata": {},
   "outputs": [
    {
     "name": "stdout",
     "output_type": "stream",
     "text": [
      "Prediction: Medium Match\n"
     ]
    }
   ],
   "source": [
    "job = \"Looking for a backend developer with Java, Spring Boot, and MySQL experience.\"\n",
    "resume = \"Experienced in Java and Spring Boot, with strong SQL background.\"\n",
    "\n",
    "result = predict_match_label(job, resume, bert_model, bert_tokenizer)\n",
    "print(\"Prediction:\", result)\n"
   ]
  },
  {
   "cell_type": "code",
   "execution_count": 15,
   "metadata": {},
   "outputs": [],
   "source": [
    "import json\n",
    "\n",
    "# Load dataset from your path\n",
    "with open(\"/Users/rajeshwarraothakkallapally/Downloads/jobmatch_dataset.json\") as f:\n",
    "    data = json.load(f)\n",
    "\n",
    "# Prepare lists\n",
    "inputs, targets = [], []\n",
    "\n",
    "for item in data:\n",
    "    job = item[\"job_description\"]\n",
    "    resume = item[\"resume_summary\"]\n",
    "    explanation = item[\"explanation\"]\n",
    "\n",
    "    prompt = f\"Explain why this resume fits the job:\\nJob: {job}\\nResume: {resume}\"\n",
    "    inputs.append(prompt)\n",
    "    targets.append(explanation)\n"
   ]
  },
  {
   "cell_type": "code",
   "execution_count": 16,
   "metadata": {},
   "outputs": [],
   "source": [
    "from transformers import AutoTokenizer\n",
    "\n",
    "model_name = \"google/flan-t5-small\"\n",
    "flan_tokenizer = AutoTokenizer.from_pretrained(model_name)\n",
    "\n",
    "# Tokenize inputs and outputs\n",
    "input_encodings = flan_tokenizer(inputs, padding=True, truncation=True, max_length=512, return_tensors=\"pt\")\n",
    "target_encodings = flan_tokenizer(targets, padding=True, truncation=True, max_length=128, return_tensors=\"pt\")\n"
   ]
  },
  {
   "cell_type": "code",
   "execution_count": 17,
   "metadata": {},
   "outputs": [],
   "source": [
    "import torch\n",
    "\n",
    "class T5ExplanationDataset(torch.utils.data.Dataset):\n",
    "    def __init__(self, input_encodings, target_encodings, indices):\n",
    "        self.input_ids = input_encodings[\"input_ids\"][indices]\n",
    "        self.attention_mask = input_encodings[\"attention_mask\"][indices]\n",
    "        self.labels = target_encodings[\"input_ids\"][indices]\n",
    "\n",
    "    def __len__(self):\n",
    "        return len(self.input_ids)\n",
    "\n",
    "    def __getitem__(self, idx):\n",
    "        return {\n",
    "            \"input_ids\": self.input_ids[idx],\n",
    "            \"attention_mask\": self.attention_mask[idx],\n",
    "            \"labels\": self.labels[idx],\n",
    "        }\n"
   ]
  },
  {
   "cell_type": "code",
   "execution_count": 18,
   "metadata": {},
   "outputs": [],
   "source": [
    "from sklearn.model_selection import train_test_split\n",
    "\n",
    "# Get the total dataset size\n",
    "n_samples = len(inputs)\n",
    "all_indices = list(range(n_samples))\n",
    "\n",
    "# Split indices\n",
    "train_idx, val_idx = train_test_split(all_indices, test_size=0.1, random_state=42)\n",
    "\n",
    "# Build datasets\n",
    "train_dataset = T5ExplanationDataset(input_encodings, target_encodings, train_idx)\n",
    "val_dataset = T5ExplanationDataset(input_encodings, target_encodings, val_idx)\n"
   ]
  },
  {
   "cell_type": "code",
   "execution_count": 19,
   "metadata": {},
   "outputs": [
    {
     "name": "stderr",
     "output_type": "stream",
     "text": [
      "/Users/rajeshwarraothakkallapally/miniconda3/envs/langchain311/lib/python3.11/site-packages/transformers/training_args.py:1474: FutureWarning: `evaluation_strategy` is deprecated and will be removed in version 4.46 of 🤗 Transformers. Use `eval_strategy` instead\n",
      "  warnings.warn(\n"
     ]
    }
   ],
   "source": [
    "from transformers import AutoModelForSeq2SeqLM, Seq2SeqTrainer, Seq2SeqTrainingArguments\n",
    "\n",
    "# Load model\n",
    "flan_model = AutoModelForSeq2SeqLM.from_pretrained(\"google/flan-t5-small\")\n",
    "\n",
    "# Training config\n",
    "training_args = Seq2SeqTrainingArguments(\n",
    "    output_dir=\"./flan-t5-explainer\",\n",
    "    evaluation_strategy=\"epoch\",\n",
    "    save_strategy=\"epoch\",\n",
    "    learning_rate=3e-4,\n",
    "    per_device_train_batch_size=4,\n",
    "    per_device_eval_batch_size=4,\n",
    "    weight_decay=0.01,\n",
    "    save_total_limit=2,\n",
    "    num_train_epochs=3,\n",
    "    predict_with_generate=True,\n",
    "    logging_dir=\"./logs\",\n",
    "    logging_steps=10,\n",
    "    fp16=False  # Keep False if not using GPU with float16 support\n",
    ")\n"
   ]
  },
  {
   "cell_type": "code",
   "execution_count": 20,
   "metadata": {},
   "outputs": [],
   "source": [
    "from transformers import DataCollatorForSeq2Seq\n",
    "\n",
    "data_collator = DataCollatorForSeq2Seq(tokenizer=flan_tokenizer, model=flan_model)\n",
    "\n",
    "trainer = Seq2SeqTrainer(\n",
    "    model=flan_model,\n",
    "    args=training_args,\n",
    "    train_dataset=train_dataset,\n",
    "    eval_dataset=val_dataset,\n",
    "    tokenizer=flan_tokenizer,\n",
    "    data_collator=data_collator\n",
    ")\n"
   ]
  },
  {
   "cell_type": "code",
   "execution_count": 21,
   "metadata": {},
   "outputs": [
    {
     "name": "stderr",
     "output_type": "stream",
     "text": [
      "  0%|          | 0/675 [00:00<?, ?it/s]/Users/rajeshwarraothakkallapally/miniconda3/envs/langchain311/lib/python3.11/site-packages/transformers/data/data_collator.py:646: UserWarning: Creating a tensor from a list of numpy.ndarrays is extremely slow. Please consider converting the list to a single numpy.ndarray with numpy.array() before converting to a tensor. (Triggered internally at /Users/runner/work/pytorch/pytorch/pytorch/torch/csrc/utils/tensor_new.cpp:257.)\n",
      "  batch[\"labels\"] = torch.tensor(batch[\"labels\"], dtype=torch.int64)\n",
      "  2%|▏         | 11/675 [00:02<01:49,  6.04it/s]"
     ]
    },
    {
     "name": "stdout",
     "output_type": "stream",
     "text": [
      "{'loss': 6.5628, 'grad_norm': 11.422966957092285, 'learning_rate': 0.0002955555555555555, 'epoch': 0.04}\n"
     ]
    },
    {
     "name": "stderr",
     "output_type": "stream",
     "text": [
      "  3%|▎         | 21/675 [00:03<01:45,  6.21it/s]"
     ]
    },
    {
     "name": "stdout",
     "output_type": "stream",
     "text": [
      "{'loss': 1.8927, 'grad_norm': 21.846508026123047, 'learning_rate': 0.0002911111111111111, 'epoch': 0.09}\n"
     ]
    },
    {
     "name": "stderr",
     "output_type": "stream",
     "text": [
      "  5%|▍         | 31/675 [00:05<01:42,  6.27it/s]"
     ]
    },
    {
     "name": "stdout",
     "output_type": "stream",
     "text": [
      "{'loss': 0.7113, 'grad_norm': 3.4581823348999023, 'learning_rate': 0.0002866666666666667, 'epoch': 0.13}\n"
     ]
    },
    {
     "name": "stderr",
     "output_type": "stream",
     "text": [
      "  6%|▌         | 41/675 [00:06<01:41,  6.26it/s]"
     ]
    },
    {
     "name": "stdout",
     "output_type": "stream",
     "text": [
      "{'loss': 0.5935, 'grad_norm': 4.333836555480957, 'learning_rate': 0.00028222222222222223, 'epoch': 0.18}\n"
     ]
    },
    {
     "name": "stderr",
     "output_type": "stream",
     "text": [
      "  8%|▊         | 51/675 [00:08<01:39,  6.27it/s]"
     ]
    },
    {
     "name": "stdout",
     "output_type": "stream",
     "text": [
      "{'loss': 0.3826, 'grad_norm': 4.156271457672119, 'learning_rate': 0.0002777777777777778, 'epoch': 0.22}\n"
     ]
    },
    {
     "name": "stderr",
     "output_type": "stream",
     "text": [
      "  9%|▉         | 61/675 [00:10<01:38,  6.27it/s]"
     ]
    },
    {
     "name": "stdout",
     "output_type": "stream",
     "text": [
      "{'loss': 0.2374, 'grad_norm': 1.2317200899124146, 'learning_rate': 0.00027333333333333333, 'epoch': 0.27}\n"
     ]
    },
    {
     "name": "stderr",
     "output_type": "stream",
     "text": [
      " 11%|█         | 71/675 [00:11<01:36,  6.27it/s]"
     ]
    },
    {
     "name": "stdout",
     "output_type": "stream",
     "text": [
      "{'loss': 0.2048, 'grad_norm': 1.4795747995376587, 'learning_rate': 0.0002688888888888889, 'epoch': 0.31}\n"
     ]
    },
    {
     "name": "stderr",
     "output_type": "stream",
     "text": [
      " 12%|█▏        | 81/675 [00:13<01:34,  6.28it/s]"
     ]
    },
    {
     "name": "stdout",
     "output_type": "stream",
     "text": [
      "{'loss': 0.1311, 'grad_norm': 0.9906775951385498, 'learning_rate': 0.00026444444444444443, 'epoch': 0.36}\n"
     ]
    },
    {
     "name": "stderr",
     "output_type": "stream",
     "text": [
      " 13%|█▎        | 91/675 [00:14<01:32,  6.28it/s]"
     ]
    },
    {
     "name": "stdout",
     "output_type": "stream",
     "text": [
      "{'loss': 0.0976, 'grad_norm': 1.8553338050842285, 'learning_rate': 0.00026, 'epoch': 0.4}\n"
     ]
    },
    {
     "name": "stderr",
     "output_type": "stream",
     "text": [
      " 15%|█▍        | 101/675 [00:16<01:31,  6.28it/s]"
     ]
    },
    {
     "name": "stdout",
     "output_type": "stream",
     "text": [
      "{'loss': 0.0812, 'grad_norm': 0.6326224207878113, 'learning_rate': 0.00025555555555555553, 'epoch': 0.44}\n"
     ]
    },
    {
     "name": "stderr",
     "output_type": "stream",
     "text": [
      " 16%|█▋        | 111/675 [00:18<01:29,  6.28it/s]"
     ]
    },
    {
     "name": "stdout",
     "output_type": "stream",
     "text": [
      "{'loss': 0.0947, 'grad_norm': 0.3302457630634308, 'learning_rate': 0.0002511111111111111, 'epoch': 0.49}\n"
     ]
    },
    {
     "name": "stderr",
     "output_type": "stream",
     "text": [
      " 18%|█▊        | 120/675 [00:19<01:32,  5.99it/s]"
     ]
    },
    {
     "name": "stdout",
     "output_type": "stream",
     "text": [
      "{'loss': 0.0905, 'grad_norm': 1.2534388303756714, 'learning_rate': 0.0002466666666666666, 'epoch': 0.53}\n"
     ]
    },
    {
     "name": "stderr",
     "output_type": "stream",
     "text": [
      " 19%|█▉        | 131/675 [00:21<01:36,  5.64it/s]"
     ]
    },
    {
     "name": "stdout",
     "output_type": "stream",
     "text": [
      "{'loss': 0.0656, 'grad_norm': 0.46083518862724304, 'learning_rate': 0.0002422222222222222, 'epoch': 0.58}\n"
     ]
    },
    {
     "name": "stderr",
     "output_type": "stream",
     "text": [
      " 21%|██        | 141/675 [00:23<01:35,  5.60it/s]"
     ]
    },
    {
     "name": "stdout",
     "output_type": "stream",
     "text": [
      "{'loss': 0.157, 'grad_norm': 2.2688841819763184, 'learning_rate': 0.00023777777777777775, 'epoch': 0.62}\n"
     ]
    },
    {
     "name": "stderr",
     "output_type": "stream",
     "text": [
      " 22%|██▏       | 151/675 [00:25<01:28,  5.89it/s]"
     ]
    },
    {
     "name": "stdout",
     "output_type": "stream",
     "text": [
      "{'loss': 0.0822, 'grad_norm': 0.9365343451499939, 'learning_rate': 0.0002333333333333333, 'epoch': 0.67}\n"
     ]
    },
    {
     "name": "stderr",
     "output_type": "stream",
     "text": [
      " 24%|██▍       | 161/675 [00:26<01:24,  6.07it/s]"
     ]
    },
    {
     "name": "stdout",
     "output_type": "stream",
     "text": [
      "{'loss': 0.0749, 'grad_norm': 0.44631269574165344, 'learning_rate': 0.00022888888888888885, 'epoch': 0.71}\n"
     ]
    },
    {
     "name": "stderr",
     "output_type": "stream",
     "text": [
      " 25%|██▌       | 171/675 [00:28<01:29,  5.66it/s]"
     ]
    },
    {
     "name": "stdout",
     "output_type": "stream",
     "text": [
      "{'loss': 0.0656, 'grad_norm': 1.2343885898590088, 'learning_rate': 0.0002244444444444444, 'epoch': 0.76}\n"
     ]
    },
    {
     "name": "stderr",
     "output_type": "stream",
     "text": [
      " 27%|██▋       | 181/675 [00:30<01:19,  6.19it/s]"
     ]
    },
    {
     "name": "stdout",
     "output_type": "stream",
     "text": [
      "{'loss': 0.0635, 'grad_norm': 0.7096039652824402, 'learning_rate': 0.00021999999999999995, 'epoch': 0.8}\n"
     ]
    },
    {
     "name": "stderr",
     "output_type": "stream",
     "text": [
      " 28%|██▊       | 191/675 [00:31<01:18,  6.16it/s]"
     ]
    },
    {
     "name": "stdout",
     "output_type": "stream",
     "text": [
      "{'loss': 0.0782, 'grad_norm': 0.9466565847396851, 'learning_rate': 0.00021555555555555556, 'epoch': 0.84}\n"
     ]
    },
    {
     "name": "stderr",
     "output_type": "stream",
     "text": [
      " 30%|██▉       | 201/675 [00:33<01:17,  6.15it/s]"
     ]
    },
    {
     "name": "stdout",
     "output_type": "stream",
     "text": [
      "{'loss': 0.0501, 'grad_norm': 0.4980361759662628, 'learning_rate': 0.0002111111111111111, 'epoch': 0.89}\n"
     ]
    },
    {
     "name": "stderr",
     "output_type": "stream",
     "text": [
      " 31%|███▏      | 211/675 [00:34<01:14,  6.20it/s]"
     ]
    },
    {
     "name": "stdout",
     "output_type": "stream",
     "text": [
      "{'loss': 0.0877, 'grad_norm': 1.9141993522644043, 'learning_rate': 0.00020666666666666666, 'epoch': 0.93}\n"
     ]
    },
    {
     "name": "stderr",
     "output_type": "stream",
     "text": [
      " 33%|███▎      | 221/675 [00:36<01:13,  6.18it/s]"
     ]
    },
    {
     "name": "stdout",
     "output_type": "stream",
     "text": [
      "{'loss': 0.0458, 'grad_norm': 0.5332560539245605, 'learning_rate': 0.0002022222222222222, 'epoch': 0.98}\n"
     ]
    },
    {
     "name": "stderr",
     "output_type": "stream",
     "text": [
      "                                                 \n",
      " 33%|███▎      | 225/675 [00:37<01:12,  6.19it/s]"
     ]
    },
    {
     "name": "stdout",
     "output_type": "stream",
     "text": [
      "{'eval_loss': 0.058481182903051376, 'eval_runtime': 0.6575, 'eval_samples_per_second': 152.096, 'eval_steps_per_second': 38.024, 'epoch': 1.0}\n"
     ]
    },
    {
     "name": "stderr",
     "output_type": "stream",
     "text": [
      "/Users/rajeshwarraothakkallapally/miniconda3/envs/langchain311/lib/python3.11/site-packages/torch/utils/data/dataloader.py:683: UserWarning: 'pin_memory' argument is set as true but not supported on MPS now, then device pinned memory won't be used.\n",
      "  warnings.warn(warn_msg)\n",
      " 34%|███▍      | 231/675 [00:40<01:54,  3.86it/s]"
     ]
    },
    {
     "name": "stdout",
     "output_type": "stream",
     "text": [
      "{'loss': 0.0792, 'grad_norm': 1.0794386863708496, 'learning_rate': 0.00019777777777777776, 'epoch': 1.02}\n"
     ]
    },
    {
     "name": "stderr",
     "output_type": "stream",
     "text": [
      " 36%|███▌      | 241/675 [00:41<01:10,  6.13it/s]"
     ]
    },
    {
     "name": "stdout",
     "output_type": "stream",
     "text": [
      "{'loss': 0.0369, 'grad_norm': 1.2000808715820312, 'learning_rate': 0.00019333333333333333, 'epoch': 1.07}\n"
     ]
    },
    {
     "name": "stderr",
     "output_type": "stream",
     "text": [
      " 37%|███▋      | 251/675 [00:43<01:08,  6.18it/s]"
     ]
    },
    {
     "name": "stdout",
     "output_type": "stream",
     "text": [
      "{'loss': 0.0367, 'grad_norm': 1.5773566961288452, 'learning_rate': 0.00018888888888888888, 'epoch': 1.11}\n"
     ]
    },
    {
     "name": "stderr",
     "output_type": "stream",
     "text": [
      " 39%|███▊      | 261/675 [00:44<01:07,  6.17it/s]"
     ]
    },
    {
     "name": "stdout",
     "output_type": "stream",
     "text": [
      "{'loss': 0.0918, 'grad_norm': 1.1726943254470825, 'learning_rate': 0.00018444444444444443, 'epoch': 1.16}\n"
     ]
    },
    {
     "name": "stderr",
     "output_type": "stream",
     "text": [
      " 40%|████      | 271/675 [00:46<01:05,  6.21it/s]"
     ]
    },
    {
     "name": "stdout",
     "output_type": "stream",
     "text": [
      "{'loss': 0.0534, 'grad_norm': 0.9225012063980103, 'learning_rate': 0.00017999999999999998, 'epoch': 1.2}\n"
     ]
    },
    {
     "name": "stderr",
     "output_type": "stream",
     "text": [
      " 42%|████▏     | 281/675 [00:48<01:03,  6.20it/s]"
     ]
    },
    {
     "name": "stdout",
     "output_type": "stream",
     "text": [
      "{'loss': 0.0536, 'grad_norm': 0.9488732218742371, 'learning_rate': 0.00017555555555555553, 'epoch': 1.24}\n"
     ]
    },
    {
     "name": "stderr",
     "output_type": "stream",
     "text": [
      " 43%|████▎     | 291/675 [00:49<01:01,  6.21it/s]"
     ]
    },
    {
     "name": "stdout",
     "output_type": "stream",
     "text": [
      "{'loss': 0.0677, 'grad_norm': 5.277588844299316, 'learning_rate': 0.0001711111111111111, 'epoch': 1.29}\n"
     ]
    },
    {
     "name": "stderr",
     "output_type": "stream",
     "text": [
      " 44%|████▍     | 300/675 [00:51<01:08,  5.47it/s]"
     ]
    },
    {
     "name": "stdout",
     "output_type": "stream",
     "text": [
      "{'loss': 0.0496, 'grad_norm': 0.4188045561313629, 'learning_rate': 0.00016666666666666666, 'epoch': 1.33}\n"
     ]
    },
    {
     "name": "stderr",
     "output_type": "stream",
     "text": [
      " 46%|████▌     | 311/675 [00:53<01:00,  6.01it/s]"
     ]
    },
    {
     "name": "stdout",
     "output_type": "stream",
     "text": [
      "{'loss': 0.0392, 'grad_norm': 0.16795124113559723, 'learning_rate': 0.0001622222222222222, 'epoch': 1.38}\n"
     ]
    },
    {
     "name": "stderr",
     "output_type": "stream",
     "text": [
      " 48%|████▊     | 321/675 [00:54<00:58,  6.07it/s]"
     ]
    },
    {
     "name": "stdout",
     "output_type": "stream",
     "text": [
      "{'loss': 0.0339, 'grad_norm': 0.467022567987442, 'learning_rate': 0.00015777777777777776, 'epoch': 1.42}\n"
     ]
    },
    {
     "name": "stderr",
     "output_type": "stream",
     "text": [
      " 49%|████▉     | 331/675 [00:56<00:56,  6.11it/s]"
     ]
    },
    {
     "name": "stdout",
     "output_type": "stream",
     "text": [
      "{'loss': 0.0445, 'grad_norm': 0.4763122797012329, 'learning_rate': 0.0001533333333333333, 'epoch': 1.47}\n"
     ]
    },
    {
     "name": "stderr",
     "output_type": "stream",
     "text": [
      " 51%|█████     | 341/675 [00:58<00:53,  6.19it/s]"
     ]
    },
    {
     "name": "stdout",
     "output_type": "stream",
     "text": [
      "{'loss': 0.0334, 'grad_norm': 0.7554382085800171, 'learning_rate': 0.00014888888888888886, 'epoch': 1.51}\n"
     ]
    },
    {
     "name": "stderr",
     "output_type": "stream",
     "text": [
      " 52%|█████▏    | 351/675 [00:59<00:52,  6.16it/s]"
     ]
    },
    {
     "name": "stdout",
     "output_type": "stream",
     "text": [
      "{'loss': 0.0352, 'grad_norm': 1.041372537612915, 'learning_rate': 0.0001444444444444444, 'epoch': 1.56}\n"
     ]
    },
    {
     "name": "stderr",
     "output_type": "stream",
     "text": [
      " 53%|█████▎    | 361/675 [01:01<00:50,  6.21it/s]"
     ]
    },
    {
     "name": "stdout",
     "output_type": "stream",
     "text": [
      "{'loss': 0.0309, 'grad_norm': 0.8332885503768921, 'learning_rate': 0.00014, 'epoch': 1.6}\n"
     ]
    },
    {
     "name": "stderr",
     "output_type": "stream",
     "text": [
      " 55%|█████▍    | 371/675 [01:03<00:49,  6.18it/s]"
     ]
    },
    {
     "name": "stdout",
     "output_type": "stream",
     "text": [
      "{'loss': 0.0499, 'grad_norm': 0.47756922245025635, 'learning_rate': 0.00013555555555555554, 'epoch': 1.64}\n"
     ]
    },
    {
     "name": "stderr",
     "output_type": "stream",
     "text": [
      " 56%|█████▋    | 381/675 [01:04<00:47,  6.16it/s]"
     ]
    },
    {
     "name": "stdout",
     "output_type": "stream",
     "text": [
      "{'loss': 0.0322, 'grad_norm': 0.5824627876281738, 'learning_rate': 0.00013111111111111111, 'epoch': 1.69}\n"
     ]
    },
    {
     "name": "stderr",
     "output_type": "stream",
     "text": [
      " 58%|█████▊    | 391/675 [01:06<00:45,  6.20it/s]"
     ]
    },
    {
     "name": "stdout",
     "output_type": "stream",
     "text": [
      "{'loss': 0.0466, 'grad_norm': 0.6032866835594177, 'learning_rate': 0.00012666666666666666, 'epoch': 1.73}\n"
     ]
    },
    {
     "name": "stderr",
     "output_type": "stream",
     "text": [
      " 59%|█████▉    | 401/675 [01:07<00:44,  6.17it/s]"
     ]
    },
    {
     "name": "stdout",
     "output_type": "stream",
     "text": [
      "{'loss': 0.0274, 'grad_norm': 0.672117292881012, 'learning_rate': 0.00012222222222222221, 'epoch': 1.78}\n"
     ]
    },
    {
     "name": "stderr",
     "output_type": "stream",
     "text": [
      " 61%|██████    | 411/675 [01:09<00:42,  6.19it/s]"
     ]
    },
    {
     "name": "stdout",
     "output_type": "stream",
     "text": [
      "{'loss': 0.0295, 'grad_norm': 0.6259301900863647, 'learning_rate': 0.00011777777777777776, 'epoch': 1.82}\n"
     ]
    },
    {
     "name": "stderr",
     "output_type": "stream",
     "text": [
      " 62%|██████▏   | 421/675 [01:11<00:41,  6.18it/s]"
     ]
    },
    {
     "name": "stdout",
     "output_type": "stream",
     "text": [
      "{'loss': 0.029, 'grad_norm': 1.0533835887908936, 'learning_rate': 0.00011333333333333331, 'epoch': 1.87}\n"
     ]
    },
    {
     "name": "stderr",
     "output_type": "stream",
     "text": [
      " 64%|██████▍   | 431/675 [01:12<00:39,  6.16it/s]"
     ]
    },
    {
     "name": "stdout",
     "output_type": "stream",
     "text": [
      "{'loss': 0.0385, 'grad_norm': 1.235236406326294, 'learning_rate': 0.00010888888888888889, 'epoch': 1.91}\n"
     ]
    },
    {
     "name": "stderr",
     "output_type": "stream",
     "text": [
      " 65%|██████▌   | 441/675 [01:14<00:38,  6.15it/s]"
     ]
    },
    {
     "name": "stdout",
     "output_type": "stream",
     "text": [
      "{'loss': 0.0439, 'grad_norm': 0.26045921444892883, 'learning_rate': 0.00010444444444444444, 'epoch': 1.96}\n"
     ]
    },
    {
     "name": "stderr",
     "output_type": "stream",
     "text": [
      " 67%|██████▋   | 450/675 [01:15<00:36,  6.20it/s]"
     ]
    },
    {
     "name": "stdout",
     "output_type": "stream",
     "text": [
      "{'loss': 0.0354, 'grad_norm': 2.2506461143493652, 'learning_rate': 9.999999999999999e-05, 'epoch': 2.0}\n"
     ]
    },
    {
     "name": "stderr",
     "output_type": "stream",
     "text": [
      "                                                 \n",
      " 67%|██████▋   | 450/675 [01:16<00:36,  6.20it/s]"
     ]
    },
    {
     "name": "stdout",
     "output_type": "stream",
     "text": [
      "{'eval_loss': 0.03388705849647522, 'eval_runtime': 0.6726, 'eval_samples_per_second': 148.672, 'eval_steps_per_second': 37.168, 'epoch': 2.0}\n"
     ]
    },
    {
     "name": "stderr",
     "output_type": "stream",
     "text": [
      "/Users/rajeshwarraothakkallapally/miniconda3/envs/langchain311/lib/python3.11/site-packages/torch/utils/data/dataloader.py:683: UserWarning: 'pin_memory' argument is set as true but not supported on MPS now, then device pinned memory won't be used.\n",
      "  warnings.warn(warn_msg)\n",
      " 68%|██████▊   | 461/675 [01:19<00:37,  5.71it/s]"
     ]
    },
    {
     "name": "stdout",
     "output_type": "stream",
     "text": [
      "{'loss': 0.0137, 'grad_norm': 0.19126233458518982, 'learning_rate': 9.555555555555555e-05, 'epoch': 2.04}\n"
     ]
    },
    {
     "name": "stderr",
     "output_type": "stream",
     "text": [
      " 70%|██████▉   | 471/675 [01:20<00:33,  6.09it/s]"
     ]
    },
    {
     "name": "stdout",
     "output_type": "stream",
     "text": [
      "{'loss': 0.0368, 'grad_norm': 1.870413064956665, 'learning_rate': 9.11111111111111e-05, 'epoch': 2.09}\n"
     ]
    },
    {
     "name": "stderr",
     "output_type": "stream",
     "text": [
      " 71%|███████▏  | 481/675 [01:22<00:31,  6.08it/s]"
     ]
    },
    {
     "name": "stdout",
     "output_type": "stream",
     "text": [
      "{'loss': 0.0383, 'grad_norm': 1.4053372144699097, 'learning_rate': 8.666666666666665e-05, 'epoch': 2.13}\n"
     ]
    },
    {
     "name": "stderr",
     "output_type": "stream",
     "text": [
      " 73%|███████▎  | 491/675 [01:24<00:29,  6.17it/s]"
     ]
    },
    {
     "name": "stdout",
     "output_type": "stream",
     "text": [
      "{'loss': 0.0233, 'grad_norm': 1.3353630304336548, 'learning_rate': 8.222222222222222e-05, 'epoch': 2.18}\n"
     ]
    },
    {
     "name": "stderr",
     "output_type": "stream",
     "text": [
      " 74%|███████▍  | 501/675 [01:25<00:28,  6.16it/s]"
     ]
    },
    {
     "name": "stdout",
     "output_type": "stream",
     "text": [
      "{'loss': 0.0229, 'grad_norm': 0.06011587753891945, 'learning_rate': 7.777777777777777e-05, 'epoch': 2.22}\n"
     ]
    },
    {
     "name": "stderr",
     "output_type": "stream",
     "text": [
      " 76%|███████▌  | 511/675 [01:27<00:26,  6.15it/s]"
     ]
    },
    {
     "name": "stdout",
     "output_type": "stream",
     "text": [
      "{'loss': 0.0278, 'grad_norm': 1.3773515224456787, 'learning_rate': 7.333333333333332e-05, 'epoch': 2.27}\n"
     ]
    },
    {
     "name": "stderr",
     "output_type": "stream",
     "text": [
      " 77%|███████▋  | 521/675 [01:29<00:25,  5.98it/s]"
     ]
    },
    {
     "name": "stdout",
     "output_type": "stream",
     "text": [
      "{'loss': 0.0131, 'grad_norm': 0.10492651909589767, 'learning_rate': 6.888888888888888e-05, 'epoch': 2.31}\n"
     ]
    },
    {
     "name": "stderr",
     "output_type": "stream",
     "text": [
      " 79%|███████▊  | 531/675 [01:30<00:23,  6.15it/s]"
     ]
    },
    {
     "name": "stdout",
     "output_type": "stream",
     "text": [
      "{'loss': 0.022, 'grad_norm': 0.9954889416694641, 'learning_rate': 6.444444444444444e-05, 'epoch': 2.36}\n"
     ]
    },
    {
     "name": "stderr",
     "output_type": "stream",
     "text": [
      " 80%|████████  | 541/675 [01:32<00:21,  6.18it/s]"
     ]
    },
    {
     "name": "stdout",
     "output_type": "stream",
     "text": [
      "{'loss': 0.0345, 'grad_norm': 0.5367124080657959, 'learning_rate': 5.9999999999999995e-05, 'epoch': 2.4}\n"
     ]
    },
    {
     "name": "stderr",
     "output_type": "stream",
     "text": [
      " 82%|████████▏ | 551/675 [01:34<00:20,  6.05it/s]"
     ]
    },
    {
     "name": "stdout",
     "output_type": "stream",
     "text": [
      "{'loss': 0.0202, 'grad_norm': 0.25580528378486633, 'learning_rate': 5.5555555555555545e-05, 'epoch': 2.44}\n"
     ]
    },
    {
     "name": "stderr",
     "output_type": "stream",
     "text": [
      " 83%|████████▎ | 561/675 [01:35<00:19,  5.72it/s]"
     ]
    },
    {
     "name": "stdout",
     "output_type": "stream",
     "text": [
      "{'loss': 0.0157, 'grad_norm': 0.2491489052772522, 'learning_rate': 5.111111111111111e-05, 'epoch': 2.49}\n"
     ]
    },
    {
     "name": "stderr",
     "output_type": "stream",
     "text": [
      " 85%|████████▍ | 571/675 [01:37<00:19,  5.34it/s]"
     ]
    },
    {
     "name": "stdout",
     "output_type": "stream",
     "text": [
      "{'loss': 0.0529, 'grad_norm': 0.43343350291252136, 'learning_rate': 4.6666666666666665e-05, 'epoch': 2.53}\n"
     ]
    },
    {
     "name": "stderr",
     "output_type": "stream",
     "text": [
      " 86%|████████▌ | 581/675 [01:39<00:16,  5.66it/s]"
     ]
    },
    {
     "name": "stdout",
     "output_type": "stream",
     "text": [
      "{'loss': 0.0313, 'grad_norm': 1.01418936252594, 'learning_rate': 4.222222222222222e-05, 'epoch': 2.58}\n"
     ]
    },
    {
     "name": "stderr",
     "output_type": "stream",
     "text": [
      " 88%|████████▊ | 591/675 [01:41<00:14,  5.74it/s]"
     ]
    },
    {
     "name": "stdout",
     "output_type": "stream",
     "text": [
      "{'loss': 0.0188, 'grad_norm': 1.4280107021331787, 'learning_rate': 3.777777777777777e-05, 'epoch': 2.62}\n"
     ]
    },
    {
     "name": "stderr",
     "output_type": "stream",
     "text": [
      " 89%|████████▉ | 601/675 [01:42<00:12,  5.84it/s]"
     ]
    },
    {
     "name": "stdout",
     "output_type": "stream",
     "text": [
      "{'loss': 0.0294, 'grad_norm': 2.3937854766845703, 'learning_rate': 3.333333333333333e-05, 'epoch': 2.67}\n"
     ]
    },
    {
     "name": "stderr",
     "output_type": "stream",
     "text": [
      " 91%|█████████ | 611/675 [01:44<00:10,  5.86it/s]"
     ]
    },
    {
     "name": "stdout",
     "output_type": "stream",
     "text": [
      "{'loss': 0.0322, 'grad_norm': 0.6150193810462952, 'learning_rate': 2.8888888888888885e-05, 'epoch': 2.71}\n"
     ]
    },
    {
     "name": "stderr",
     "output_type": "stream",
     "text": [
      " 92%|█████████▏| 621/675 [01:46<00:09,  5.75it/s]"
     ]
    },
    {
     "name": "stdout",
     "output_type": "stream",
     "text": [
      "{'loss': 0.0105, 'grad_norm': 0.17364594340324402, 'learning_rate': 2.4444444444444445e-05, 'epoch': 2.76}\n"
     ]
    },
    {
     "name": "stderr",
     "output_type": "stream",
     "text": [
      " 93%|█████████▎| 631/675 [01:48<00:07,  5.67it/s]"
     ]
    },
    {
     "name": "stdout",
     "output_type": "stream",
     "text": [
      "{'loss': 0.0291, 'grad_norm': 1.3081144094467163, 'learning_rate': 1.9999999999999998e-05, 'epoch': 2.8}\n"
     ]
    },
    {
     "name": "stderr",
     "output_type": "stream",
     "text": [
      " 95%|█████████▍| 641/675 [01:49<00:05,  5.72it/s]"
     ]
    },
    {
     "name": "stdout",
     "output_type": "stream",
     "text": [
      "{'loss': 0.0183, 'grad_norm': 2.064584970474243, 'learning_rate': 1.5555555555555555e-05, 'epoch': 2.84}\n"
     ]
    },
    {
     "name": "stderr",
     "output_type": "stream",
     "text": [
      " 96%|█████████▋| 651/675 [01:51<00:04,  5.09it/s]"
     ]
    },
    {
     "name": "stdout",
     "output_type": "stream",
     "text": [
      "{'loss': 0.0306, 'grad_norm': 1.5690209865570068, 'learning_rate': 1.111111111111111e-05, 'epoch': 2.89}\n"
     ]
    },
    {
     "name": "stderr",
     "output_type": "stream",
     "text": [
      " 98%|█████████▊| 661/675 [01:53<00:02,  5.31it/s]"
     ]
    },
    {
     "name": "stdout",
     "output_type": "stream",
     "text": [
      "{'loss': 0.0098, 'grad_norm': 0.8029831647872925, 'learning_rate': 6.666666666666667e-06, 'epoch': 2.93}\n"
     ]
    },
    {
     "name": "stderr",
     "output_type": "stream",
     "text": [
      " 99%|█████████▉| 671/675 [01:55<00:00,  5.43it/s]"
     ]
    },
    {
     "name": "stdout",
     "output_type": "stream",
     "text": [
      "{'loss': 0.0217, 'grad_norm': 1.567793846130371, 'learning_rate': 2.222222222222222e-06, 'epoch': 2.98}\n"
     ]
    },
    {
     "name": "stderr",
     "output_type": "stream",
     "text": [
      "                                                 \n",
      "100%|██████████| 675/675 [01:57<00:00,  5.28it/s]"
     ]
    },
    {
     "name": "stdout",
     "output_type": "stream",
     "text": [
      "{'eval_loss': 0.04708433151245117, 'eval_runtime': 0.9324, 'eval_samples_per_second': 107.252, 'eval_steps_per_second': 26.813, 'epoch': 3.0}\n"
     ]
    },
    {
     "name": "stderr",
     "output_type": "stream",
     "text": [
      "100%|██████████| 675/675 [01:58<00:00,  5.70it/s]"
     ]
    },
    {
     "name": "stdout",
     "output_type": "stream",
     "text": [
      "{'train_runtime': 118.3762, 'train_samples_per_second': 22.809, 'train_steps_per_second': 5.702, 'train_loss': 0.1990478127642914, 'epoch': 3.0}\n"
     ]
    },
    {
     "name": "stderr",
     "output_type": "stream",
     "text": [
      "\n"
     ]
    },
    {
     "data": {
      "text/plain": [
       "TrainOutput(global_step=675, training_loss=0.1990478127642914, metrics={'train_runtime': 118.3762, 'train_samples_per_second': 22.809, 'train_steps_per_second': 5.702, 'total_flos': 76461992755200.0, 'train_loss': 0.1990478127642914, 'epoch': 3.0})"
      ]
     },
     "execution_count": 21,
     "metadata": {},
     "output_type": "execute_result"
    }
   ],
   "source": [
    "trainer.train()\n"
   ]
  },
  {
   "cell_type": "code",
   "execution_count": 22,
   "metadata": {},
   "outputs": [],
   "source": [
    "def generate_explanation(job, resume, model, tokenizer, max_length=128):\n",
    "    model.eval()\n",
    "    model.to(\"cpu\")\n",
    "    prompt = f\"Explain why this resume fits the job:\\nJob: {job}\\nResume: {resume}\"\n",
    "    inputs = tokenizer(prompt, return_tensors=\"pt\", truncation=True, padding=True).to(\"cpu\")\n",
    "\n",
    "    with torch.no_grad():\n",
    "        outputs = model.generate(\n",
    "            **inputs,\n",
    "            max_length=max_length,\n",
    "            num_beams=4,\n",
    "            early_stopping=True\n",
    "        )\n",
    "    return tokenizer.decode(outputs[0], skip_special_tokens=True)\n"
   ]
  },
  {
   "cell_type": "code",
   "execution_count": 23,
   "metadata": {},
   "outputs": [
    {
     "name": "stdout",
     "output_type": "stream",
     "text": [
      "Explanation: Moderate match: candidate has some relevant skills.\n"
     ]
    }
   ],
   "source": [
    "job = \"Hiring data scientist with experience in NLP, Python, and Transformers library.\"\n",
    "resume = \"Developed NLP models using spaCy and Hugging Face Transformers. Experienced in Python and deep learning.\"\n",
    "\n",
    "explanation = generate_explanation(job, resume, flan_model, flan_tokenizer)\n",
    "print(\"Explanation:\", explanation)\n"
   ]
  },
  {
   "cell_type": "code",
   "execution_count": 24,
   "metadata": {},
   "outputs": [],
   "source": [
    "def evaluate_multiple_resumes(job_description, resumes, bert_model, flan_model, tokenizer_bert, tokenizer_t5):\n",
    "    results = []\n",
    "\n",
    "    for resume in resumes:\n",
    "        # 1. Classification (Match Score)\n",
    "        input_text = job_description + \" \" + resume\n",
    "        tokens = tokenizer_bert(input_text, return_tensors=\"pt\", truncation=True, padding=True)\n",
    "        outputs = bert_model(**tokens)\n",
    "        score = torch.argmax(outputs.logits).item()\n",
    "        score_map = {0: \"Low\", 1: \"Medium\", 2: \"High\"}\n",
    "        match = score_map[score]\n",
    "\n",
    "        # 2. Explanation\n",
    "        explanation = generate_explanation(job_description, resume, flan_model, tokenizer_t5)\n",
    "\n",
    "        results.append({\n",
    "            \"resume\": resume,\n",
    "            \"match_score\": match,\n",
    "            \"explanation\": explanation\n",
    "        })\n",
    "\n",
    "    return results\n"
   ]
  },
  {
   "cell_type": "code",
   "execution_count": 25,
   "metadata": {},
   "outputs": [
    {
     "name": "stdout",
     "output_type": "stream",
     "text": [
      "\n",
      "Resume 1\n",
      "Match Score: Medium\n",
      "Explanation: Moderate match: candidate has some relevant skills.\n",
      "\n",
      "Resume 2\n",
      "Match Score: Low\n",
      "Explanation: Weak match: few overlaps between required and known skills.\n",
      "\n",
      "Resume 3\n",
      "Match Score: Low\n",
      "Explanation: Very low match: candidate lacks key required skills.\n"
     ]
    }
   ],
   "source": [
    "job = \"Looking for a full-stack engineer skilled in React, Spring Boot, and PostgreSQL.\"\n",
    "\n",
    "resumes = [\n",
    "    \"Worked with Java Spring Boot for 3 years, built APIs, used PostgreSQL.\",\n",
    "    \"Frontend experience using React and Redux, with backend in Node.js.\",\n",
    "    \"Skilled in Python, Flask, and MongoDB, with DevOps experience.\"\n",
    "]\n",
    "\n",
    "results = evaluate_multiple_resumes(job, resumes, bert_model, flan_model,bert_tokenizer,flan_tokenizer)\n",
    "\n",
    "for idx, res in enumerate(results):\n",
    "    print(f\"\\nResume {idx+1}\")\n",
    "    print(\"Match Score:\", res[\"match_score\"])\n",
    "    print(\"Explanation:\", res[\"explanation\"])\n"
   ]
  }
 ],
 "metadata": {
  "kernelspec": {
   "display_name": "langchain311",
   "language": "python",
   "name": "python3"
  },
  "language_info": {
   "codemirror_mode": {
    "name": "ipython",
    "version": 3
   },
   "file_extension": ".py",
   "mimetype": "text/x-python",
   "name": "python",
   "nbconvert_exporter": "python",
   "pygments_lexer": "ipython3",
   "version": "3.11.11"
  }
 },
 "nbformat": 4,
 "nbformat_minor": 2
}
